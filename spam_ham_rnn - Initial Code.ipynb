{
 "cells": [
  {
   "cell_type": "markdown",
   "metadata": {},
   "source": [
    "# SPAM CLASSIFICATION with LSTM Network in Keras"
   ]
  },
  {
   "cell_type": "code",
   "execution_count": 2,
   "metadata": {},
   "outputs": [],
   "source": [
    "import pandas as pd \n",
    "import numpy as np\n",
    "from tensorflow.keras.layers import Dense, LSTM, Embedding\n",
    "from tensorflow.keras.models import Sequential"
   ]
  },
  {
   "cell_type": "markdown",
   "metadata": {},
   "source": [
    "### Reading the data"
   ]
  },
  {
   "cell_type": "code",
   "execution_count": 3,
   "metadata": {},
   "outputs": [
    {
     "name": "stdout",
     "output_type": "stream",
     "text": [
      "(29000, 2)\n",
      "Index(['Label', 'Message'], dtype='object')\n",
      "\n",
      "\n",
      "  Label                                            Message\n",
      "0   ham                 oh how abt 2 days before Christmas\n",
      "1  info  Welcome to OVATION HOLD R.No. 184, 114, 395, 3...\n",
      "2  info  Thank you for using your ICICI bank CREDITcard...\n",
      "3   ham  schedule a meeting with the entire team in the...\n",
      "4   ham                                Tommy is my brother\n"
     ]
    }
   ],
   "source": [
    "raw_data = pd.read_csv('./spam_train.csv', encoding='latin-1') \n",
    "raw_test_data = pd.read_csv('./spam_test.csv', encoding='latin-1')\n",
    "\n",
    "print(raw_data.shape) \n",
    "print(raw_data.columns) \n",
    "print('\\n')\n",
    "print(raw_data.head(5)) "
   ]
  },
  {
   "cell_type": "markdown",
   "metadata": {},
   "source": [
    "### Check the labels and their frequencies"
   ]
  },
  {
   "cell_type": "code",
   "execution_count": 4,
   "metadata": {},
   "outputs": [
    {
     "name": "stdout",
     "output_type": "stream",
     "text": [
      "['ham' 'info' 'spam']\n",
      "[ 9666 12916  6418]\n"
     ]
    }
   ],
   "source": [
    "classes = np.unique(raw_data['Label'], return_counts=True)\n",
    "print(classes[0]) \n",
    "print(classes[1]) "
   ]
  },
  {
   "cell_type": "markdown",
   "metadata": {},
   "source": [
    "### Conver text to fixed length sequence"
   ]
  },
  {
   "cell_type": "code",
   "execution_count": 12,
   "metadata": {},
   "outputs": [
    {
     "data": {
      "text/plain": [
       "((29000, 50), (1000, 50))"
      ]
     },
     "execution_count": 12,
     "metadata": {},
     "output_type": "execute_result"
    }
   ],
   "source": [
    "from tensorflow.keras.preprocessing.text import Tokenizer\n",
    "from tensorflow.keras.preprocessing.sequence import pad_sequences\n",
    "\n",
    "tokenizer = Tokenizer(num_words=10000) #Tokenizer is used to tokenize text\n",
    "tokenizer.fit_on_texts(raw_data.Message) #Fit this to our corpus\n",
    "\n",
    "x_train = tokenizer.texts_to_sequences(raw_data.Message) #'text to sequences converts the text to a list of indices\n",
    "x_train = pad_sequences(x_train, maxlen=50) #pad_sequences makes every sequence a fixed size list by padding with 0s \n",
    "x_test = tokenizer.texts_to_sequences(raw_test_data.Message) \n",
    "x_test = pad_sequences(x_test, maxlen=50)\n",
    "\n",
    "x_train.shape, x_test.shape # Check the dimensions of x_train and x_test  "
   ]
  },
  {
   "cell_type": "markdown",
   "metadata": {},
   "source": [
    "### Prepare the target vectors for the network"
   ]
  },
  {
   "cell_type": "code",
   "execution_count": 9,
   "metadata": {},
   "outputs": [
    {
     "data": {
      "text/plain": [
       "(1000, 3)"
      ]
     },
     "execution_count": 9,
     "metadata": {},
     "output_type": "execute_result"
    }
   ],
   "source": [
    "from tensorflow.keras.utils import to_categorical \n",
    "unique_labels = list(raw_data.Label.unique()) \n",
    "y_train = np.array([unique_labels.index(i) for i in raw_data.Label]) \n",
    "y_train = to_categorical(y_train) \n",
    "y_test = np.array([unique_labels.index(i) for i in raw_test_data.Label])\n",
    "y_test = to_categorical(y_test)\n",
    "y_test.shape"
   ]
  },
  {
   "cell_type": "code",
   "execution_count": 11,
   "metadata": {},
   "outputs": [],
   "source": [
    "import tensorflow.keras.backend as K \n",
    "\n",
    "def recall(y_true, y_pred):\n",
    "    TP = K.sum(K.round(K.clip(y_true * y_pred, 0, 1)))\n",
    "    PP = K.sum(K.round(K.clip(y_true, 0, 1)))\n",
    "    recall = TP / (PP + K.epsilon())\n",
    "    return recall"
   ]
  },
  {
   "cell_type": "markdown",
   "metadata": {},
   "source": [
    "### Building and training an LSTM model"
   ]
  },
  {
   "cell_type": "code",
   "execution_count": 18,
   "metadata": {},
   "outputs": [],
   "source": [
    "model=Sequential()\n",
    "model.add(Embedding(10000,100))\n",
    "model.add(LSTM(10,dropout=0.2))\n",
    "model.add(Dense(3,activation='softmax'))"
   ]
  },
  {
   "cell_type": "code",
   "execution_count": 19,
   "metadata": {},
   "outputs": [],
   "source": [
    "model.compile(loss='binary_crossentropy',\n",
    "              optimizer='adam',\n",
    "              metrics=['accuracy'])"
   ]
  },
  {
   "cell_type": "code",
   "execution_count": 20,
   "metadata": {},
   "outputs": [
    {
     "name": "stdout",
     "output_type": "stream",
     "text": [
      "Train on 29000 samples, validate on 1000 samples\n",
      "29000/29000 [==============================] - 37s 1ms/sample - loss: 0.0673 - accuracy: 0.9759 - val_loss: 0.0178 - val_accuracy: 0.9967\n"
     ]
    },
    {
     "data": {
      "text/plain": [
       "<tensorflow.python.keras.callbacks.History at 0x1a31c57cda0>"
      ]
     },
     "execution_count": 20,
     "metadata": {},
     "output_type": "execute_result"
    }
   ],
   "source": [
    "model.fit(x_train,y_train,batch_size=32,\n",
    "          epochs=1,validation_data=(x_test, y_test))"
   ]
  },
  {
   "cell_type": "code",
   "execution_count": null,
   "metadata": {},
   "outputs": [],
   "source": []
  }
 ],
 "metadata": {
  "anaconda-cloud": {},
  "kernelspec": {
   "display_name": "Python 3",
   "language": "python",
   "name": "python3"
  },
  "language_info": {
   "codemirror_mode": {
    "name": "ipython",
    "version": 3
   },
   "file_extension": ".py",
   "mimetype": "text/x-python",
   "name": "python",
   "nbconvert_exporter": "python",
   "pygments_lexer": "ipython3",
   "version": "3.5.6"
  }
 },
 "nbformat": 4,
 "nbformat_minor": 2
}
